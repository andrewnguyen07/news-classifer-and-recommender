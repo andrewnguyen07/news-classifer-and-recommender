{
 "metadata": {
  "language_info": {
   "codemirror_mode": {
    "name": "ipython",
    "version": 3
   },
   "file_extension": ".py",
   "mimetype": "text/x-python",
   "name": "python",
   "nbconvert_exporter": "python",
   "pygments_lexer": "ipython3",
   "version": "3.8.6-final"
  },
  "orig_nbformat": 2,
  "kernelspec": {
   "name": "Python 3.8.6 64-bit",
   "display_name": "Python 3.8.6 64-bit",
   "metadata": {
    "interpreter": {
     "hash": "aee8b7b246df8f9039afb4144a1f6fd8d2ca17a180786b69acc140d282b71a49"
    }
   }
  }
 },
 "nbformat": 4,
 "nbformat_minor": 2,
 "cells": [
  {
   "cell_type": "code",
   "execution_count": 1,
   "metadata": {},
   "outputs": [],
   "source": [
    "import pandas as pd \n",
    "import numpy as np "
   ]
  },
  {
   "cell_type": "code",
   "execution_count": 2,
   "metadata": {},
   "outputs": [],
   "source": [
    "# 7. Text Recommender: TF-IDF"
   ]
  },
  {
   "cell_type": "code",
   "execution_count": 3,
   "metadata": {},
   "outputs": [],
   "source": [
    "%store -r df\n",
    "%store -r headline_and_desc\n",
    "%store -r category\n",
    "%store -r sample_text\n",
    "%store -r sample_pred_label"
   ]
  },
  {
   "cell_type": "code",
   "execution_count": 4,
   "metadata": {},
   "outputs": [
    {
     "output_type": "execute_result",
     "data": {
      "text/plain": [
       "(200853, 7)"
      ]
     },
     "metadata": {},
     "execution_count": 4
    }
   ],
   "source": [
    "df = pd.concat([df, headline_and_desc], axis=1)\n",
    "df = df.rename(columns={0: 'headline_and_desc'})\n",
    "df.shape"
   ]
  },
  {
   "cell_type": "code",
   "execution_count": 5,
   "metadata": {},
   "outputs": [
    {
     "output_type": "execute_result",
     "data": {
      "text/plain": [
       "(200832, 7)"
      ]
     },
     "metadata": {},
     "execution_count": 5
    }
   ],
   "source": [
    "df = df.loc[headline_and_desc != '']\n",
    "df.shape"
   ]
  },
  {
   "cell_type": "code",
   "execution_count": 6,
   "metadata": {},
   "outputs": [
    {
     "output_type": "execute_result",
     "data": {
      "text/plain": [
       "        category                                           headline  \\\n",
       "0          CRIME  There Were 2 Mass Shootings In Texas Last Week...   \n",
       "1  ENTERTAINMENT  Will Smith Joins Diplo And Nicky Jam For The 2...   \n",
       "2  ENTERTAINMENT    Hugh Grant Marries For The First Time At Age 57   \n",
       "3  ENTERTAINMENT  Jim Carrey Blasts 'Castrato' Adam Schiff And D...   \n",
       "4  ENTERTAINMENT  Julianna Margulies Uses Donald Trump Poop Bags...   \n",
       "\n",
       "           authors                                  short_description  \\\n",
       "0  Melissa Jeltsen  She left her husband. He killed their children...   \n",
       "1    Andy McDonald                           Of course it has a song.   \n",
       "2       Ron Dicker  The actor and his longtime girlfriend Anna Ebe...   \n",
       "3       Ron Dicker  The actor gives Dems an ass-kicking for not fi...   \n",
       "4       Ron Dicker  The \"Dietland\" actress said using the bags is ...   \n",
       "\n",
       "         date   new_category  \\\n",
       "0  2018-05-26           NEWS   \n",
       "1  2018-05-26  ENTERTAINMENT   \n",
       "2  2018-05-26  ENTERTAINMENT   \n",
       "3  2018-05-26  ENTERTAINMENT   \n",
       "4  2018-05-26  ENTERTAINMENT   \n",
       "\n",
       "                                   headline_and_desc  \n",
       "0  mass shootings texas week tv leave husband kil...  \n",
       "1  smith joins diplo nicky jam world cup official...  \n",
       "2  hugh grant marrie time age actor longtime girl...  \n",
       "3  jim carrey blasts castrato adam schiff democra...  \n",
       "4  julianna margulies use donald trump poop bag p...  "
      ],
      "text/html": "<div>\n<style scoped>\n    .dataframe tbody tr th:only-of-type {\n        vertical-align: middle;\n    }\n\n    .dataframe tbody tr th {\n        vertical-align: top;\n    }\n\n    .dataframe thead th {\n        text-align: right;\n    }\n</style>\n<table border=\"1\" class=\"dataframe\">\n  <thead>\n    <tr style=\"text-align: right;\">\n      <th></th>\n      <th>category</th>\n      <th>headline</th>\n      <th>authors</th>\n      <th>short_description</th>\n      <th>date</th>\n      <th>new_category</th>\n      <th>headline_and_desc</th>\n    </tr>\n  </thead>\n  <tbody>\n    <tr>\n      <th>0</th>\n      <td>CRIME</td>\n      <td>There Were 2 Mass Shootings In Texas Last Week...</td>\n      <td>Melissa Jeltsen</td>\n      <td>She left her husband. He killed their children...</td>\n      <td>2018-05-26</td>\n      <td>NEWS</td>\n      <td>mass shootings texas week tv leave husband kil...</td>\n    </tr>\n    <tr>\n      <th>1</th>\n      <td>ENTERTAINMENT</td>\n      <td>Will Smith Joins Diplo And Nicky Jam For The 2...</td>\n      <td>Andy McDonald</td>\n      <td>Of course it has a song.</td>\n      <td>2018-05-26</td>\n      <td>ENTERTAINMENT</td>\n      <td>smith joins diplo nicky jam world cup official...</td>\n    </tr>\n    <tr>\n      <th>2</th>\n      <td>ENTERTAINMENT</td>\n      <td>Hugh Grant Marries For The First Time At Age 57</td>\n      <td>Ron Dicker</td>\n      <td>The actor and his longtime girlfriend Anna Ebe...</td>\n      <td>2018-05-26</td>\n      <td>ENTERTAINMENT</td>\n      <td>hugh grant marrie time age actor longtime girl...</td>\n    </tr>\n    <tr>\n      <th>3</th>\n      <td>ENTERTAINMENT</td>\n      <td>Jim Carrey Blasts 'Castrato' Adam Schiff And D...</td>\n      <td>Ron Dicker</td>\n      <td>The actor gives Dems an ass-kicking for not fi...</td>\n      <td>2018-05-26</td>\n      <td>ENTERTAINMENT</td>\n      <td>jim carrey blasts castrato adam schiff democra...</td>\n    </tr>\n    <tr>\n      <th>4</th>\n      <td>ENTERTAINMENT</td>\n      <td>Julianna Margulies Uses Donald Trump Poop Bags...</td>\n      <td>Ron Dicker</td>\n      <td>The \"Dietland\" actress said using the bags is ...</td>\n      <td>2018-05-26</td>\n      <td>ENTERTAINMENT</td>\n      <td>julianna margulies use donald trump poop bag p...</td>\n    </tr>\n  </tbody>\n</table>\n</div>"
     },
     "metadata": {},
     "execution_count": 6
    }
   ],
   "source": [
    "df.head()"
   ]
  },
  {
   "cell_type": "code",
   "execution_count": 7,
   "metadata": {},
   "outputs": [],
   "source": [
    "# tfidf vectorize the corpus\n",
    "\n",
    "from sklearn.feature_extraction.text import TfidfVectorizer\n",
    "from sklearn.metrics import pairwise_distances"
   ]
  },
  {
   "cell_type": "code",
   "execution_count": 8,
   "metadata": {},
   "outputs": [],
   "source": [
    "# 7.1. TF-IDF: headline_and_desc "
   ]
  },
  {
   "cell_type": "code",
   "execution_count": 9,
   "metadata": {},
   "outputs": [],
   "source": [
    "# define a function to compute the euclidean similarity\n",
    "\n",
    "def headline_and_desc_tfidf_recommender(df, news, sample_text, num_similar_items):\n",
    "    tfidf = TfidfVectorizer(min_df=0)\n",
    "    tfidf.fit(news)\n",
    "    news_vec = tfidf.transform(news)\n",
    "    sample_vec = tfidf.transform(sample_text)\n",
    "\n",
    "    distance = pairwise_distances(news_vec, sample_vec)\n",
    "    indices = np.argsort(distance.ravel())[0:num_similar_items]\n",
    "    news_list = pd.DataFrame({\n",
    "        'headline': df['headline'][indices],\n",
    "        'euclidean_similarity': distance.ravel()[indices]\n",
    "    })\n",
    "    return news_list"
   ]
  },
  {
   "cell_type": "code",
   "execution_count": 15,
   "metadata": {},
   "outputs": [
    {
     "output_type": "execute_result",
     "data": {
      "text/plain": [
       "array(['market soar despite election uncertainty stock market record big post election leap decade despite continue uncertainty candidate win race'],\n",
       "      dtype=object)"
      ]
     },
     "metadata": {},
     "execution_count": 15
    }
   ],
   "source": [
    "sample_text.values"
   ]
  },
  {
   "cell_type": "code",
   "execution_count": 10,
   "metadata": {},
   "outputs": [
    {
     "output_type": "execute_result",
     "data": {
      "text/plain": [
       "                                                 headline  \\\n",
       "56944   5 Ways Clutter Hurts Your Health (and How to F...   \n",
       "94402             This City Could Become The Next Detroit   \n",
       "121224   Florida Woman Bitten By Shark While Inner Tubing   \n",
       "43711   This Map Shows All The Bars Nearest To Your Po...   \n",
       "103979                  Lights Go On -- Part XXXIX -- YOU   \n",
       "6112    Everything You Should Know About The Stock Market   \n",
       "24634   Cuba's First 5-Star Luxury Hotel Opens Despite...   \n",
       "95908   Is It Dementia Or Normal Aging? Now There's A ...   \n",
       "34220   Donald Trump Is Taking Credit For A Meaningles...   \n",
       "187835  Bill Maher Compares Dan Quayle To Sarah Palin ...   \n",
       "\n",
       "        euclidean_similarity  \n",
       "56944               1.000000  \n",
       "94402               1.000000  \n",
       "121224              1.000000  \n",
       "43711               1.131386  \n",
       "103979              1.135358  \n",
       "6112                1.141893  \n",
       "24634               1.172244  \n",
       "95908               1.173689  \n",
       "34220               1.177265  \n",
       "187835              1.195311  "
      ],
      "text/html": "<div>\n<style scoped>\n    .dataframe tbody tr th:only-of-type {\n        vertical-align: middle;\n    }\n\n    .dataframe tbody tr th {\n        vertical-align: top;\n    }\n\n    .dataframe thead th {\n        text-align: right;\n    }\n</style>\n<table border=\"1\" class=\"dataframe\">\n  <thead>\n    <tr style=\"text-align: right;\">\n      <th></th>\n      <th>headline</th>\n      <th>euclidean_similarity</th>\n    </tr>\n  </thead>\n  <tbody>\n    <tr>\n      <th>56944</th>\n      <td>5 Ways Clutter Hurts Your Health (and How to F...</td>\n      <td>1.000000</td>\n    </tr>\n    <tr>\n      <th>94402</th>\n      <td>This City Could Become The Next Detroit</td>\n      <td>1.000000</td>\n    </tr>\n    <tr>\n      <th>121224</th>\n      <td>Florida Woman Bitten By Shark While Inner Tubing</td>\n      <td>1.000000</td>\n    </tr>\n    <tr>\n      <th>43711</th>\n      <td>This Map Shows All The Bars Nearest To Your Po...</td>\n      <td>1.131386</td>\n    </tr>\n    <tr>\n      <th>103979</th>\n      <td>Lights Go On -- Part XXXIX -- YOU</td>\n      <td>1.135358</td>\n    </tr>\n    <tr>\n      <th>6112</th>\n      <td>Everything You Should Know About The Stock Market</td>\n      <td>1.141893</td>\n    </tr>\n    <tr>\n      <th>24634</th>\n      <td>Cuba's First 5-Star Luxury Hotel Opens Despite...</td>\n      <td>1.172244</td>\n    </tr>\n    <tr>\n      <th>95908</th>\n      <td>Is It Dementia Or Normal Aging? Now There's A ...</td>\n      <td>1.173689</td>\n    </tr>\n    <tr>\n      <th>34220</th>\n      <td>Donald Trump Is Taking Credit For A Meaningles...</td>\n      <td>1.177265</td>\n    </tr>\n    <tr>\n      <th>187835</th>\n      <td>Bill Maher Compares Dan Quayle To Sarah Palin ...</td>\n      <td>1.195311</td>\n    </tr>\n  </tbody>\n</table>\n</div>"
     },
     "metadata": {},
     "execution_count": 10
    }
   ],
   "source": [
    "headline_and_desc_tfidf_recommender(df, df['headline_and_desc'], sample_text, 10)"
   ]
  },
  {
   "cell_type": "code",
   "execution_count": 11,
   "metadata": {},
   "outputs": [],
   "source": [
    "# 7.2. TF-IDF: headline_and_desc and category"
   ]
  },
  {
   "cell_type": "code",
   "execution_count": 12,
   "metadata": {},
   "outputs": [],
   "source": [
    "from sklearn.preprocessing import OneHotEncoder"
   ]
  },
  {
   "cell_type": "code",
   "execution_count": 13,
   "metadata": {},
   "outputs": [],
   "source": [
    "# define a function to compute the euclidean similarity\n",
    "\n",
    "def text_and_category_tfidf_recommender(df, news, sample_text, category, sample_category, num_similar_items, w1, w2):\n",
    "    # tfidf vectorize text\n",
    "    tfidf = TfidfVectorizer(min_df=0)\n",
    "    tfidf.fit(news)\n",
    "    news_vec = tfidf.transform(news)\n",
    "    sample_vec = tfidf.transform(sample_text)\n",
    "\n",
    "    # one-hot-encode the category\n",
    "    onehotencoder = OneHotEncoder()\n",
    "\n",
    "    category = category.values.reshape(-1,1)\n",
    "    sample_category = sample_category.reshape(-1,1)\n",
    "\n",
    "    onehotencoder.fit(category)\n",
    "    category_onehot = onehotencoder.transform(category)\n",
    "    sample_category_onehot = onehotencoder.transform(sample_category)\n",
    "\n",
    "    # compute the euclidean similarity\n",
    "    news_distance = pairwise_distances(news_vec, sample_vec)\n",
    "    category_distance = pairwise_distances(category_onehot, sample_category_onehot)\n",
    "    weighted_distance = (w1 * news_distance + w2 * category_distance)/float(w1+w2)\n",
    "    indices = np.argsort(weighted_distance.ravel())[0:num_similar_items]\n",
    "    news_list = pd.DataFrame({\n",
    "        'headline': df['headline'][indices],\n",
    "        'category': df['new_category'][indices],\n",
    "        'euclidean_similarity': weighted_distance.ravel()[indices]\n",
    "    })\n",
    "    return news_list"
   ]
  },
  {
   "cell_type": "code",
   "execution_count": 16,
   "metadata": {},
   "outputs": [
    {
     "output_type": "execute_result",
     "data": {
      "text/plain": [
       "array(['market soar despite election uncertainty stock market record big post election leap decade despite continue uncertainty candidate win race'],\n",
       "      dtype=object)"
      ]
     },
     "metadata": {},
     "execution_count": 16
    }
   ],
   "source": [
    "sample_text.values"
   ]
  },
  {
   "cell_type": "code",
   "execution_count": 17,
   "metadata": {},
   "outputs": [
    {
     "output_type": "execute_result",
     "data": {
      "text/plain": [
       "array(['NEWS'], dtype=object)"
      ]
     },
     "metadata": {},
     "execution_count": 17
    }
   ],
   "source": [
    "sample_pred_label"
   ]
  },
  {
   "cell_type": "code",
   "execution_count": 14,
   "metadata": {},
   "outputs": [
    {
     "output_type": "execute_result",
     "data": {
      "text/plain": [
       "                                                 headline       category  \\\n",
       "95908   Is It Dementia Or Normal Aging? Now There's A ...           LIFE   \n",
       "187835  Bill Maher Compares Dan Quayle To Sarah Palin ...  ENTERTAINMENT   \n",
       "70301   How Earth Changed In 2015: The View From Far A...           NEWS   \n",
       "114796  How The Kochs Are Organizing Against Your Loca...       POLITICS   \n",
       "166974  SNL's 'Biden Bash' Is The Inauguration Party W...  ENTERTAINMENT   \n",
       "66897           This Baby Goat Yogi Is Not Kidding Around           LIFE   \n",
       "187837  Pennsylvania Public Defenders Rebel Against Cr...           NEWS   \n",
       "42099   With President Trump As Top Role Model, Teache...           LIFE   \n",
       "100052  CD Review: 'The Great Escape' by The Great Escape  ENTERTAINMENT   \n",
       "24985   Britain's Snap Election Takes A Surprising Tur...           NEWS   \n",
       "\n",
       "        euclidean_similarity  \n",
       "95908               0.234738  \n",
       "187835              0.239062  \n",
       "70301               0.241127  \n",
       "114796              0.241211  \n",
       "166974              0.244679  \n",
       "66897               0.247419  \n",
       "187837              0.248248  \n",
       "42099               0.248633  \n",
       "100052              0.249056  \n",
       "24985               0.249777  "
      ],
      "text/html": "<div>\n<style scoped>\n    .dataframe tbody tr th:only-of-type {\n        vertical-align: middle;\n    }\n\n    .dataframe tbody tr th {\n        vertical-align: top;\n    }\n\n    .dataframe thead th {\n        text-align: right;\n    }\n</style>\n<table border=\"1\" class=\"dataframe\">\n  <thead>\n    <tr style=\"text-align: right;\">\n      <th></th>\n      <th>headline</th>\n      <th>category</th>\n      <th>euclidean_similarity</th>\n    </tr>\n  </thead>\n  <tbody>\n    <tr>\n      <th>95908</th>\n      <td>Is It Dementia Or Normal Aging? Now There's A ...</td>\n      <td>LIFE</td>\n      <td>0.234738</td>\n    </tr>\n    <tr>\n      <th>187835</th>\n      <td>Bill Maher Compares Dan Quayle To Sarah Palin ...</td>\n      <td>ENTERTAINMENT</td>\n      <td>0.239062</td>\n    </tr>\n    <tr>\n      <th>70301</th>\n      <td>How Earth Changed In 2015: The View From Far A...</td>\n      <td>NEWS</td>\n      <td>0.241127</td>\n    </tr>\n    <tr>\n      <th>114796</th>\n      <td>How The Kochs Are Organizing Against Your Loca...</td>\n      <td>POLITICS</td>\n      <td>0.241211</td>\n    </tr>\n    <tr>\n      <th>166974</th>\n      <td>SNL's 'Biden Bash' Is The Inauguration Party W...</td>\n      <td>ENTERTAINMENT</td>\n      <td>0.244679</td>\n    </tr>\n    <tr>\n      <th>66897</th>\n      <td>This Baby Goat Yogi Is Not Kidding Around</td>\n      <td>LIFE</td>\n      <td>0.247419</td>\n    </tr>\n    <tr>\n      <th>187837</th>\n      <td>Pennsylvania Public Defenders Rebel Against Cr...</td>\n      <td>NEWS</td>\n      <td>0.248248</td>\n    </tr>\n    <tr>\n      <th>42099</th>\n      <td>With President Trump As Top Role Model, Teache...</td>\n      <td>LIFE</td>\n      <td>0.248633</td>\n    </tr>\n    <tr>\n      <th>100052</th>\n      <td>CD Review: 'The Great Escape' by The Great Escape</td>\n      <td>ENTERTAINMENT</td>\n      <td>0.249056</td>\n    </tr>\n    <tr>\n      <th>24985</th>\n      <td>Britain's Snap Election Takes A Surprising Tur...</td>\n      <td>NEWS</td>\n      <td>0.249777</td>\n    </tr>\n  </tbody>\n</table>\n</div>"
     },
     "metadata": {},
     "execution_count": 14
    }
   ],
   "source": [
    "text_and_category_tfidf_recommender(df, df['headline_and_desc'], sample_text, df['new_category'], sample_pred_label, 10, 0.2, 0.8)"
   ]
  },
  {
   "cell_type": "code",
   "execution_count": null,
   "metadata": {},
   "outputs": [],
   "source": []
  }
 ]
}